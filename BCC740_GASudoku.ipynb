{
  "nbformat": 4,
  "nbformat_minor": 0,
  "metadata": {
    "colab": {
      "name": "BCC740_GASudoku.ipynb",
      "provenance": [],
      "collapsed_sections": [],
      "include_colab_link": true
    },
    "kernelspec": {
      "name": "python3",
      "display_name": "Python 3"
    }
  },
  "cells": [
    {
      "cell_type": "markdown",
      "metadata": {
        "id": "view-in-github",
        "colab_type": "text"
      },
      "source": [
        "<a href=\"https://colab.research.google.com/github/gustahlucas/Inteligencia-Artificial/blob/master/BCC740_GASudoku.ipynb\" target=\"_parent\"><img src=\"https://colab.research.google.com/assets/colab-badge.svg\" alt=\"Open In Colab\"/></a>"
      ]
    },
    {
      "cell_type": "code",
      "metadata": {
        "id": "SOs1m0_WtPRS",
        "colab_type": "code",
        "colab": {}
      },
      "source": [
        "import numpy as np\n"
      ],
      "execution_count": 0,
      "outputs": []
    },
    {
      "cell_type": "code",
      "metadata": {
        "id": "8qxRsFd5rol9",
        "colab_type": "code",
        "colab": {}
      },
      "source": [
        "def compute_conflict(game,initial_game = []):\n",
        "  \n",
        "  if initial_game:\n",
        "    for i in range(len(game)):\n",
        "      for j in range(len(game[0])):\n",
        "        if initial_game[i,j] != 0:\n",
        "          game[i,j] = initial_game[i,j]\n",
        "  \n",
        "  \n",
        "  conflict = 0\n",
        "  \n",
        "  for i in range(len(game)):\n",
        "    conflict += len(game) - len(set(game[i,:]))\n",
        "    conflict += len(game) - len(set(game[:,i]))\n",
        "  \n",
        "  block_size = int(len(game)**(1/2))\n",
        "  \n",
        "  for i in range(0,len(game),block_size):\n",
        "    for j in range(0,len(game),block_size):\n",
        "      block = game[i:(i+block_size),j:(j+block_size)]\n",
        "      conflict += len(game) - \\\n",
        "      len(set(block.reshape(block_size*block_size)))\n",
        "    \n",
        "  return conflict"
      ],
      "execution_count": 0,
      "outputs": []
    },
    {
      "cell_type": "code",
      "metadata": {
        "id": "VujHCa6D9j8U",
        "colab_type": "code",
        "colab": {}
      },
      "source": [
        "def crossover(p1,p2):\n",
        "  ind_size = len(p1)\n",
        "  cut1 = np.random.randint(0,ind_size)\n",
        "  cut2 = np.random.randint(0,ind_size)\n",
        "\n",
        "  if cut1 >= cut2:\n",
        "    aux = cut1\n",
        "    cut1 = cut2\n",
        "    cut2 = aux\n",
        "\n",
        "  off1 = np.zeros(ind_size)\n",
        "  off2 = np.zeros(ind_size)\n",
        "\n",
        "  for i in range(ind_size):  \n",
        "    if i <= cut1:\n",
        "      off1[i] = p1[i]\n",
        "      off2[i] = p2[i]\n",
        "    elif i > cut1  and i <= cut2:\n",
        "      off1[i] = p2[i]\n",
        "      off2[i] = p1[i]\n",
        "    else:\n",
        "      off1[i] = p1[i]\n",
        "      off2[i] = p2[i]\n",
        "\n",
        "  return (off1,off2)"
      ],
      "execution_count": 0,
      "outputs": []
    },
    {
      "cell_type": "code",
      "metadata": {
        "id": "RcuhoTJ6_7Q8",
        "colab_type": "code",
        "colab": {}
      },
      "source": [
        "def mutation(ind,tm,game_size):\n",
        "  for i in range(len(ind)):\n",
        "    if np.random.rand() <= tm:\n",
        "      ind[i] = np.random.randint(1,game_size+1)\n",
        "\n",
        "  return ind"
      ],
      "execution_count": 0,
      "outputs": []
    },
    {
      "cell_type": "code",
      "metadata": {
        "id": "fHIEupR3A3UX",
        "colab_type": "code",
        "colab": {}
      },
      "source": [
        "def tournament(pop,pop_val,k):\n",
        "  idx = np.random.randint(0,len(pop),k)\n",
        "\n",
        "  participants = pop[idx,:]\n",
        "  part_val = pop_val[idx]\n",
        "\n",
        "  champ_idx = np.argmin(part_val)\n",
        "  champ = participants[champ_idx,:]\n",
        "  \n",
        "  return champ"
      ],
      "execution_count": 0,
      "outputs": []
    },
    {
      "cell_type": "code",
      "metadata": {
        "id": "wwv-b5yqBzOv",
        "colab_type": "code",
        "colab": {}
      },
      "source": [
        "def selection(pop,pop_val,newpop,new_val,pop_size):\n",
        "  pop = np.concatenate((pop,newpop),axis = 0)\n",
        "  \n",
        "  pop_val = np.concatenate((pop_val,new_val))\n",
        "\n",
        "  idx = np.argsort(pop_val)\n",
        "\n",
        "  pop = pop[idx,:]\n",
        "  pop_val = pop_val[idx]\n",
        "\n",
        "  pop = pop[0:pop_size,:]\n",
        "  pop_val = pop_val[0:pop_size]\n",
        "\n",
        "  return (pop,pop_val)"
      ],
      "execution_count": 0,
      "outputs": []
    },
    {
      "cell_type": "code",
      "metadata": {
        "id": "pBAbbsxUEFAU",
        "colab_type": "code",
        "colab": {}
      },
      "source": [
        "def conflict(pop,game_size,initial_game = []):\n",
        "  val = []\n",
        "  for i in range(len(pop)):\n",
        "    val.append(compute_conflict(pop[i].reshape(game_size,game_size),initial_game))\n",
        "\n",
        "  return np.array(val)"
      ],
      "execution_count": 0,
      "outputs": []
    },
    {
      "cell_type": "code",
      "metadata": {
        "id": "tvwvvVScDL8_",
        "colab_type": "code",
        "colab": {}
      },
      "source": [
        "from tqdm import tqdm\n",
        "\n",
        "def GA_Sudoku(max_iter=1000, k=10, tm=0.05, game_size=9, pop_size = 100, initial_game = [], do_plots = True):\n",
        "\n",
        "  # Generate the initial population\n",
        "  ind_size = game_size*game_size  \n",
        "  pop = np.random.randint(1,game_size+1,(pop_size,ind_size))\n",
        "  \n",
        "  # Evaluate the initial population\n",
        "  pop_val = conflict(pop,game_size,initial_game)\n",
        "  \n",
        "  # Store the serie of best individual through time\n",
        "  best_vals = []\n",
        "\n",
        "  # Generational loop\n",
        "  for i in tqdm(range(max_iter)):\n",
        "    \n",
        "    # Initialize a new empty population\n",
        "    new_pop = np.zeros((pop_size,ind_size))\n",
        "    \n",
        "    # Populate the data structure\n",
        "    for j in range(0,pop_size,2):  \n",
        "      # Select the first parent\n",
        "      p1 = tournament(pop,pop_val,k)\n",
        "      # Select the the second parent\n",
        "      p2 = tournament(pop,pop_val,k)\n",
        "\n",
        "      # Generate offspring through crossover and mutation\n",
        "      off = crossover(p1,p2)\n",
        "      new_pop[j,:] = mutation(off[0],tm,game_size)\n",
        "      new_pop[j+1,:] = mutation(off[1],tm,game_size)\n",
        "    \n",
        "    # Evaluate the new population\n",
        "    new_val = conflict(new_pop,game_size,initial_game)\n",
        "    \n",
        "    # Select the best individuals population\n",
        "    sel_res = selection(pop,pop_val,new_pop,new_val,pop_size)\n",
        "    pop = sel_res[0]\n",
        "    pop_val = sel_res[1]\n",
        "\n",
        "    # Store the best individual at that generation\n",
        "    best_idx = np.argmin(pop_val)\n",
        "    best = pop[best_idx,:]\n",
        "    best_val = pop_val[best_idx]\n",
        "    best_vals.append(best_val)\n",
        "\n",
        "  best = best.reshape(game_size,game_size)\n",
        "  \n",
        "  if initial_game:\n",
        "    for i in range(len(best)):\n",
        "      for j in range(len(best[0])):\n",
        "        if initial_game[i,j] != 0:\n",
        "          best[i,j] = initial_game[i,j]\n",
        "  \n",
        "  if do_plots:\n",
        "    import matplotlib.pyplot as plt\n",
        "    plt.plot(best_vals)\n",
        "    print('Found Sudoku')\n",
        "    print(best)\n",
        "    print('Number of Conflicts = {}'.format(best_val))\n",
        "\n",
        "  return best\n"
      ],
      "execution_count": 0,
      "outputs": []
    },
    {
      "cell_type": "code",
      "metadata": {
        "id": "eymxHs0Q1OCd",
        "colab_type": "code",
        "outputId": "b5b18baa-d2cf-4bc2-b94a-f766fd88c5c0",
        "colab": {
          "base_uri": "https://localhost:8080/",
          "height": 477
        }
      },
      "source": [
        "sudoku = GA_Sudoku(max_iter=20000, k=3, tm=0.1, game_size=9, pop_size = 1500, initial_game = [], do_plots = True)"
      ],
      "execution_count": 0,
      "outputs": [
        {
          "output_type": "stream",
          "text": [
            "100%|██████████| 20000/20000 [1:14:28<00:00,  4.74it/s]"
          ],
          "name": "stderr"
        },
        {
          "output_type": "stream",
          "text": [
            "Found Sudoku\n",
            "[[1. 4. 3. 5. 9. 2. 6. 8. 7.]\n",
            " [5. 8. 7. 3. 6. 1. 2. 9. 4.]\n",
            " [9. 6. 2. 7. 4. 8. 5. 1. 3.]\n",
            " [8. 7. 6. 2. 5. 9. 3. 4. 1.]\n",
            " [3. 1. 2. 6. 7. 4. 8. 5. 9.]\n",
            " [4. 5. 9. 8. 1. 3. 7. 6. 2.]\n",
            " [6. 4. 5. 1. 3. 7. 9. 2. 8.]\n",
            " [2. 9. 1. 4. 8. 6. 7. 3. 5.]\n",
            " [7. 3. 8. 9. 2. 5. 1. 4. 6.]]\n",
            "Number of Conflicts = 4\n"
          ],
          "name": "stdout"
        },
        {
          "output_type": "stream",
          "text": [
            "\n"
          ],
          "name": "stderr"
        },
        {
          "output_type": "display_data",
          "data": {
            "image/png": "[encoded data removed]",
            "text/plain": [
              "<Figure size 432x288 with 1 Axes>"
            ]
          },
          "metadata": {
            "tags": []
          }
        }
      ]
    },
    {
      "cell_type": "code",
      "metadata": {
        "id": "VEfbUUBL68RU",
        "colab_type": "code",
        "colab": {}
      },
      "source": [
        ""
      ],
      "execution_count": 0,
      "outputs": []
    }
  ]
}